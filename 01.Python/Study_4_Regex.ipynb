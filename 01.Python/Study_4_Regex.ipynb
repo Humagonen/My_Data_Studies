{
 "cells": [
  {
   "cell_type": "markdown",
   "metadata": {},
   "source": [
    "# Regex Study"
   ]
  },
  {
   "cell_type": "markdown",
   "metadata": {},
   "source": [
    "1. metin = \"Python, JavaScript ve ReactJS öğreniyorum.\" <br>\n",
    "\n",
    "Yukarıdaki metinde \"Python\" kelimesinin geçip geçmediğini kontrol etmek için bir Python programı yazın."
   ]
  },
  {
   "cell_type": "code",
   "execution_count": 2,
   "metadata": {},
   "outputs": [
    {
     "name": "stdout",
     "output_type": "stream",
     "text": [
      "<re.Match object; span=(0, 6), match='Python'>\n"
     ]
    }
   ],
   "source": [
    "import re\n",
    "metin = \"Python, JavaScript ve ReactJS öğreniyorum.\"\n",
    "\n",
    "pattern = \"Python\"\n",
    "\n",
    "print(re.search(pattern, metin))"
   ]
  },
  {
   "cell_type": "markdown",
   "metadata": {},
   "source": [
    "2. metin = \"Bugün 12, yarın 34 ve sonra 56 olacak.\" <br>\n",
    "\n",
    "Yukarıdaki metinde bulunan sayıları ayırmak ve liste olarak döndürmek için bir Python programı yazın."
   ]
  },
  {
   "cell_type": "code",
   "execution_count": 2,
   "metadata": {},
   "outputs": [
    {
     "name": "stdout",
     "output_type": "stream",
     "text": [
      "['12', '34', '56']\n"
     ]
    }
   ],
   "source": [
    "metin = \"Bugün 12, yarın 34 ve sonra 56 olacak.\"\n",
    "\n",
    "pattern = r\"\\d+\"\n",
    "\n",
    "print(re.findall(pattern, metin))"
   ]
  },
  {
   "cell_type": "markdown",
   "metadata": {},
   "source": [
    "3.  Kullanıcının girdiği e-posta adresinin geçerli bir adres olup olmadığını kontrol eden bir Python programı yazın."
   ]
  },
  {
   "cell_type": "code",
   "execution_count": 6,
   "metadata": {},
   "outputs": [
    {
     "name": "stdout",
     "output_type": "stream",
     "text": [
      "22 5 hh humagnn.10@yahoo.com 56kk h\n",
      "['humagnn.10@yahoo.com']\n"
     ]
    }
   ],
   "source": [
    "x = input(\"bir email adresi giriniz: \")\n",
    "print(x)\n",
    "\n",
    "pattern = r\"\\S+@[A-Za-z0-9.-]+\\.[A-Z|a-z]{2,7}\"\n",
    "\n",
    "print(re.findall(pattern, x))"
   ]
  },
  {
   "cell_type": "markdown",
   "metadata": {},
   "source": [
    "4. metin = \"Bugünün tarihi 23.10.2023 ve yarının tarihi 24.10.2023.\" <br>\n",
    "\n",
    "Yukarıdaki metinde bulunan tarihleri ayıklayan bir Python programı yazın.\n"
   ]
  },
  {
   "cell_type": "code",
   "execution_count": 9,
   "metadata": {},
   "outputs": [
    {
     "name": "stdout",
     "output_type": "stream",
     "text": [
      "['24.10.2023']\n"
     ]
    }
   ],
   "source": [
    "metin = \"Bugünün tarihi 23-10-2023 ve yarının tarihi 24.10.2023.\"\n",
    "\n",
    "pattern = r\"\\d\\d\\.\\d\\d\\.\\d{4}\" # \\. sadece noktayi bulsun diye. direkt . koysaydik \n",
    "\n",
    "print(re.findall(pattern, metin))"
   ]
  },
  {
   "cell_type": "markdown",
   "metadata": {},
   "source": [
    "5.  Bir metinde bulunan telefon numaralarını ayıklamak ve liste olarak döndürmek için bir Python programı yazın. Telefon numaraları \"xxx-xxx-xxxx\" (örneğin, 555-555-5555) formatında olabilir."
   ]
  },
  {
   "cell_type": "code",
   "execution_count": 12,
   "metadata": {},
   "outputs": [
    {
     "name": "stdout",
     "output_type": "stream",
     "text": [
      "hello 253 645, 255-565-6666, 555 555 5555 bye!\n",
      "['255-565-6666']\n"
     ]
    }
   ],
   "source": [
    "metin = input(\"bir metin giriniz: \")\n",
    "print(metin)\n",
    "pattern = r\"\\b\\d{3}\\-\\d{3}\\-\\d{4}\\b\" # \\b yapmazsak 555 555 555555555 bunu da algilar\n",
    "\n",
    "print(re.findall(pattern, metin))"
   ]
  },
  {
   "cell_type": "markdown",
   "metadata": {},
   "source": [
    "6. Bir metinde bulunan URL'leri ayıklamak ve liste olarak döndürmek için bir Python programı yazın."
   ]
  },
  {
   "cell_type": "code",
   "execution_count": 15,
   "metadata": {},
   "outputs": [
    {
     "name": "stdout",
     "output_type": "stream",
     "text": [
      "['http://www.example.com/index.html']\n"
     ]
    }
   ],
   "source": [
    "url = input(\"bir url adresi giriniz:\") # http://www.example.com/index.html\n",
    "\n",
    "pattern = r\"\\bhttp://www\\.\\S+\"\n",
    "\n",
    "print(re.findall(pattern, url))"
   ]
  },
  {
   "cell_type": "markdown",
   "metadata": {},
   "source": [
    "7. Bir metinde bulunan isimleri ayıklamak ve liste olarak döndürmek için bir Python programı yazın. İsimler sadece büyük harfle başlayan kelimeler olarak kabul edilsin."
   ]
  },
  {
   "cell_type": "code",
   "execution_count": 22,
   "metadata": {},
   "outputs": [
    {
     "name": "stdout",
     "output_type": "stream",
     "text": [
      "['Ahmet', 'Sercan', 'Zehra']\n"
     ]
    }
   ],
   "source": [
    "metin = \"123 Ahmet ülker Ömer Sercan FATMA hello Zehra ./&%+\"\n",
    "\n",
    "pattern = r\"\\b[A-Z][a-z]+\" # turkce karakter \n",
    "\n",
    "print(re.findall(pattern, metin))"
   ]
  },
  {
   "cell_type": "markdown",
   "metadata": {},
   "source": [
    "8. Kullanıcıdan bir şifre girmesini isteyen bir program yazın ve bu şifrenin belirli güçlük kriterlerini karşılayıp karşılamadığını kontrol edin. Şifre en az bir büyük harf, bir küçük harf, bir rakam ve en az 8 karakter içermelidir."
   ]
  },
  {
   "cell_type": "code",
   "execution_count": null,
   "metadata": {},
   "outputs": [],
   "source": [
    "def strong_password(password):\n",
    "    \n",
    "    if len(password) < 8:\n",
    "        return False\n",
    "    \n",
    "    if not re.search(r'[a-z]', password):\n",
    "        return False\n",
    "    \n",
    "    if not re.search(r'[A-Z]', password):\n",
    "        return False\n",
    "    \n",
    "    if not re.search(r'[0-9]', password):\n",
    "        return False\n",
    "    \n",
    "    return True\n",
    "\n",
    "\n",
    "while True:\n",
    "\n",
    "    password = input(\"Sifre girin lütfen\")\n",
    "\n",
    "    if strong_password(password):\n",
    "        print(\"Güclü sifre\")    \n",
    "        break\n",
    "    else:\n",
    "        print(\"Şifre en az bir büyük\")"
   ]
  },
  {
   "cell_type": "markdown",
   "metadata": {},
   "source": [
    "9. Bir metinde bulunan Türkçe karakterleri ayıklamak ve Türkçe karakterlerin yerine İngilizce karakterleri koymak için bir Python programı yazın. Örneğin, \"ç\" -> \"c\", \"ş\" -> \"s\", vb."
   ]
  },
  {
   "cell_type": "code",
   "execution_count": null,
   "metadata": {},
   "outputs": [],
   "source": []
  },
  {
   "cell_type": "markdown",
   "metadata": {},
   "source": [
    "10. Bir metinde bulunan web sitelerinin alan adlarını ayıklamak ve liste olarak döndürmek için bir Python programı yazın. Örneğin, \"https://www.google.com\" adresinden \"google.com\" kısmını ayıklayın."
   ]
  },
  {
   "cell_type": "code",
   "execution_count": 42,
   "metadata": {},
   "outputs": [
    {
     "name": "stdout",
     "output_type": "stream",
     "text": [
      "['.google.com']\n"
     ]
    }
   ],
   "source": [
    "url = 'https://www.google.com'\n",
    "\n",
    "pattern = r\"\\.\\S+\\b\"\n",
    "\n",
    "print(re.findall(pattern, url))"
   ]
  }
 ],
 "metadata": {
  "kernelspec": {
   "display_name": "Python 3",
   "language": "python",
   "name": "python3"
  },
  "language_info": {
   "codemirror_mode": {
    "name": "ipython",
    "version": 3
   },
   "file_extension": ".py",
   "mimetype": "text/x-python",
   "name": "python",
   "nbconvert_exporter": "python",
   "pygments_lexer": "ipython3",
   "version": "3.11.5"
  }
 },
 "nbformat": 4,
 "nbformat_minor": 2
}
