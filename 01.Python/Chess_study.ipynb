{
 "cells": [
  {
   "cell_type": "markdown",
   "metadata": {},
   "source": [
    "## Finding the probabilities of arrangements where 8 queens on the chessboard do not attack each other"
   ]
  },
  {
   "cell_type": "code",
   "execution_count": 1,
   "metadata": {},
   "outputs": [
    {
     "name": "stdout",
     "output_type": "stream",
     "text": [
      "A4 B2 C7 D3 E6 F8 G5 H1\n",
      "A5 B2 C4 D7 E3 F8 G6 H1\n",
      "A3 B5 C2 D8 E6 F4 G7 H1\n",
      "A3 B6 C4 D2 E8 F5 G7 H1\n",
      "A5 B7 C1 D3 E8 F6 G4 H2\n",
      "A4 B6 C8 D3 E1 F7 G5 H2\n",
      "A3 B6 C8 D1 E4 F7 G5 H2\n",
      "A5 B3 C8 D4 E7 F1 G6 H2\n",
      "A5 B7 C4 D1 E3 F8 G6 H2\n",
      "A4 B1 C5 D8 E6 F3 G7 H2\n",
      "A3 B6 C4 D1 E8 F5 G7 H2\n",
      "A4 B7 C5 D3 E1 F6 G8 H2\n",
      "A6 B4 C2 D8 E5 F7 G1 H3\n",
      "A6 B4 C7 D1 E8 F2 G5 H3\n",
      "A1 B7 C4 D6 E8 F2 G5 H3\n",
      "A6 B8 C2 D4 E1 F7 G5 H3\n",
      "A6 B2 C7 D1 E4 F8 G5 H3\n",
      "A4 B7 C1 D8 E5 F2 G6 H3\n",
      "A5 B8 C4 D1 E7 F2 G6 H3\n",
      "A4 B8 C1 D5 E7 F2 G6 H3\n",
      "A2 B7 C5 D8 E1 F4 G6 H3\n",
      "A1 B7 C5 D8 E2 F4 G6 H3\n",
      "A2 B5 C7 D4 E1 F8 G6 H3\n",
      "A4 B2 C7 D5 E1 F8 G6 H3\n",
      "A5 B7 C1 D4 E2 F8 G6 H3\n",
      "A6 B4 C1 D5 E8 F2 G7 H3\n",
      "A5 B1 C4 D6 E8 F2 G7 H3\n",
      "A5 B2 C6 D1 E7 F4 G8 H3\n",
      "A6 B3 C7 D2 E8 F5 G1 H4\n",
      "A2 B7 C3 D6 E8 F5 G1 H4\n",
      "A7 B3 C1 D6 E8 F5 G2 H4\n",
      "A5 B1 C8 D6 E3 F7 G2 H4\n",
      "A1 B5 C8 D6 E3 F7 G2 H4\n",
      "A3 B6 C8 D1 E5 F7 G2 H4\n",
      "A6 B3 C1 D7 E5 F8 G2 H4\n",
      "A7 B5 C3 D1 E6 F8 G2 H4\n",
      "A7 B3 C8 D2 E5 F1 G6 H4\n",
      "A5 B3 C1 D7 E2 F8 G6 H4\n",
      "A2 B5 C7 D1 E3 F8 G6 H4\n",
      "A3 B6 C2 D5 E8 F1 G7 H4\n",
      "A6 B1 C5 D2 E8 F3 G7 H4\n",
      "A8 B3 C1 D6 E2 F5 G7 H4\n",
      "A2 B8 C6 D1 E3 F5 G7 H4\n",
      "A5 B7 C2 D6 E3 F1 G8 H4\n",
      "A3 B6 C2 D7 E5 F1 G8 H4\n",
      "A6 B2 C7 D1 E3 F5 G8 H4\n",
      "A3 B7 C2 D8 E6 F4 G1 H5\n",
      "A6 B3 C7 D2 E4 F8 G1 H5\n",
      "A4 B2 C7 D3 E6 F8 G1 H5\n",
      "A7 B1 C3 D8 E6 F4 G2 H5\n",
      "A1 B6 C8 D3 E7 F4 G2 H5\n",
      "A3 B8 C4 D7 E1 F6 G2 H5\n",
      "A6 B3 C7 D4 E1 F8 G2 H5\n",
      "A7 B4 C2 D8 E6 F1 G3 H5\n",
      "A4 B6 C8 D2 E7 F1 G3 H5\n",
      "A2 B6 C1 D7 E4 F8 G3 H5\n",
      "A2 B4 C6 D8 E3 F1 G7 H5\n",
      "A3 B6 C8 D2 E4 F1 G7 H5\n",
      "A6 B3 C1 D8 E4 F2 G7 H5\n",
      "A8 B4 C1 D3 E6 F2 G7 H5\n",
      "A4 B8 C1 D3 E6 F2 G7 H5\n",
      "A2 B6 C8 D3 E1 F4 G7 H5\n",
      "A7 B2 C6 D3 E1 F4 G8 H5\n",
      "A3 B6 C2 D7 E1 F4 G8 H5\n",
      "A4 B7 C3 D8 E2 F5 G1 H6\n",
      "A4 B8 C5 D3 E1 F7 G2 H6\n",
      "A3 B5 C8 D4 E1 F7 G2 H6\n",
      "A4 B2 C8 D5 E7 F1 G3 H6\n",
      "A5 B7 C2 D4 E8 F1 G3 H6\n",
      "A7 B4 C2 D5 E8 F1 G3 H6\n",
      "A8 B2 C4 D1 E7 F5 G3 H6\n",
      "A7 B2 C4 D1 E8 F5 G3 H6\n",
      "A5 B1 C8 D4 E2 F7 G3 H6\n",
      "A4 B1 C5 D8 E2 F7 G3 H6\n",
      "A5 B2 C8 D1 E4 F7 G3 H6\n",
      "A3 B7 C2 D8 E5 F1 G4 H6\n",
      "A3 B1 C7 D5 E8 F2 G4 H6\n",
      "A8 B2 C5 D3 E1 F7 G4 H6\n",
      "A3 B5 C2 D8 E1 F7 G4 H6\n",
      "A3 B5 C7 D1 E4 F2 G8 H6\n",
      "A5 B2 C4 D6 E8 F3 G1 H7\n",
      "A6 B3 C5 D8 E1 F4 G2 H7\n",
      "A5 B8 C4 D1 E3 F6 G2 H7\n",
      "A4 B2 C5 D8 E6 F1 G3 H7\n",
      "A4 B6 C1 D5 E2 F8 G3 H7\n",
      "A6 B3 C1 D8 E5 F2 G4 H7\n",
      "A5 B3 C1 D6 E8 F2 G4 H7\n",
      "A4 B2 C8 D6 E1 F3 G5 H7\n",
      "A6 B3 C5 D7 E1 F4 G2 H8\n",
      "A6 B4 C7 D1 E3 F5 G2 H8\n",
      "A4 B7 C5 D2 E6 F1 G3 H8\n",
      "A5 B7 C2 D6 E3 F1 G4 H8\n"
     ]
    }
   ],
   "source": [
    "count = 0\n",
    "\n",
    "for H in range(1,9):\n",
    "    for G in range(1,9):\n",
    "        for F in range(1,9):\n",
    "            for E in range(1,9):\n",
    "                for D in range(1,9):\n",
    "                    for C in range(1,9):\n",
    "                        for B in range(1,9):\n",
    "                            for A in range(1,9):\n",
    "                                if (abs(B-A) in [0,1]) or (abs(C-A) in [0,2]) or (abs(C-B) in [0,1])or (abs(D-A) in [0,3])or (abs(D-B) in [0,2])or (abs(D-C) in [0,1])or (abs(E-A) in [0,4])or (abs(E-B) in [0,3])or (abs(E-C) in [0,2])or (abs(E-D) in [0,1])or (abs(F-A) in [0,5])or (abs(F-B) in [0,4])or (abs(F-C) in [0,3])or (abs(F-D) in [0,2])or (abs(F-E) in [0,1])or (abs(G-A) in [0,6])or (abs(G-B) in [0,5])or (abs(G-C) in [0,4])or (abs(G-D) in [0,3])or (abs(G-E) in [0,2])or (abs(G-F) in [0,1]) or (abs(H-A) in [0,7])or (abs(H-B) in [0,6])or (abs(H-C) in [0,5])or (abs(H-D) in [0,4])or (abs(H-E) in [0,3])or (abs(H-F) in [0,2])or (abs(H-G) in [0,1]):\n",
    "                                    continue\n",
    "                                else:\n",
    "                                    \n",
    "                                    print(f\"A{A} B{B} C{C} D{D} E{E} F{F} G{G} H{H}\")\n",
    "                                    "
   ]
  },
  {
   "cell_type": "markdown",
   "metadata": {},
   "source": [
    "#### some small exercises"
   ]
  },
  {
   "cell_type": "code",
   "execution_count": 10,
   "metadata": {},
   "outputs": [
    {
     "name": "stdout",
     "output_type": "stream",
     "text": [
      "1\n",
      "2\n",
      "hello\n"
     ]
    }
   ],
   "source": [
    "A = 1\n",
    "for B in range(1,4):\n",
    "    if (abs(B-A) in [0,1]):\n",
    "        print(f\"{B}\")\n",
    "    else:\n",
    "        print(\"hello\")"
   ]
  },
  {
   "cell_type": "code",
   "execution_count": 4,
   "metadata": {},
   "outputs": [
    {
     "name": "stdout",
     "output_type": "stream",
     "text": [
      "16,777,216\n"
     ]
    }
   ],
   "source": [
    "a = 8 ** 8\n",
    "print(\"{:,}\".format(a))"
   ]
  },
  {
   "cell_type": "code",
   "execution_count": 5,
   "metadata": {},
   "outputs": [],
   "source": [
    "import numpy as np"
   ]
  },
  {
   "cell_type": "code",
   "execution_count": 8,
   "metadata": {},
   "outputs": [
    {
     "data": {
      "text/plain": [
       "array([[0., 0., 0., 0., 0., 0., 0., 0., 0.],\n",
       "       [0., 0., 0., 0., 0., 0., 0., 0., 0.],\n",
       "       [0., 0., 0., 0., 0., 0., 0., 0., 0.],\n",
       "       [0., 0., 0., 0., 0., 0., 0., 0., 0.],\n",
       "       [0., 0., 0., 0., 0., 0., 0., 0., 0.],\n",
       "       [0., 0., 0., 0., 0., 0., 0., 0., 0.],\n",
       "       [0., 0., 0., 0., 0., 0., 0., 0., 0.],\n",
       "       [0., 0., 0., 0., 0., 0., 0., 0., 0.],\n",
       "       [0., 0., 0., 0., 0., 0., 0., 0., 0.]])"
      ]
     },
     "execution_count": 8,
     "metadata": {},
     "output_type": "execute_result"
    }
   ],
   "source": [
    "arr = np.zeros((9,9))\n",
    "arr"
   ]
  },
  {
   "cell_type": "code",
   "execution_count": null,
   "metadata": {},
   "outputs": [],
   "source": []
  },
  {
   "cell_type": "code",
   "execution_count": null,
   "metadata": {},
   "outputs": [],
   "source": []
  },
  {
   "cell_type": "code",
   "execution_count": null,
   "metadata": {},
   "outputs": [],
   "source": []
  }
 ],
 "metadata": {
  "kernelspec": {
   "display_name": "base",
   "language": "python",
   "name": "python3"
  },
  "language_info": {
   "codemirror_mode": {
    "name": "ipython",
    "version": 3
   },
   "file_extension": ".py",
   "mimetype": "text/x-python",
   "name": "python",
   "nbconvert_exporter": "python",
   "pygments_lexer": "ipython3",
   "version": "3.11.5"
  }
 },
 "nbformat": 4,
 "nbformat_minor": 2
}
