{
 "cells": [
  {
   "cell_type": "markdown",
   "id": "bb5fd8fe",
   "metadata": {},
   "source": [
    "1 .Given a string of odd length greater than 5, return a new string made of the middle three characters of a given String:\n",
    "Example:\n",
    "\n",
    "\"Murat\" >>> \"ura\"\n",
    "\"Techpro\" >>> \"chp\" "
   ]
  },
  {
   "cell_type": "code",
   "execution_count": 10,
   "id": "200330a8",
   "metadata": {},
   "outputs": [
    {
     "name": "stdout",
     "output_type": "stream",
     "text": [
      "uzunbiseyyazdim\n"
     ]
    },
    {
     "data": {
      "text/plain": [
       "'sey'"
      ]
     },
     "execution_count": 10,
     "metadata": {},
     "output_type": "execute_result"
    }
   ],
   "source": [
    "x = input(\"Enter a string of odd length greater than or equal to 5: \")\n",
    "i = len(x) // 2 # this will give the middle index\n",
    "print(x)\n",
    "x[i-1 : i+2]"
   ]
  },
  {
   "cell_type": "markdown",
   "id": "d4504fd6",
   "metadata": {},
   "source": [
    "2 - Write a Python program to remove all elements from a given list present in another list. Go to the editor\n",
    "Original lists:\n",
    "list1: [1, 2, 3, 4, 5, 6, 7, 8, 9, 10]\n",
    "list2: [2, 4, 6, 8]\n",
    "Remove all elements from 'list1' present in 'list2:\n",
    "[1, 3, 5, 7, 9, 10]"
   ]
  },
  {
   "cell_type": "code",
   "execution_count": 24,
   "id": "8c8e0c14",
   "metadata": {},
   "outputs": [
    {
     "name": "stdout",
     "output_type": "stream",
     "text": [
      "[1, 3, 5, 7, 9, 10]\n"
     ]
    }
   ],
   "source": [
    "list1 = [1, 2, 3, 4, 5, 6, 7, 8, 9, 10]\n",
    "list2 = [2, 4, 6, 8]\n",
    "\n",
    "list3 = list(set(list1) - set(list2))\n",
    "\n",
    "print(list3)"
   ]
  },
  {
   "cell_type": "markdown",
   "id": "5deef34a",
   "metadata": {},
   "source": [
    "3 - Negatif olmayan iki sayı alınız ve bu iki sayı arasındaki sayılardan tek olanları key, karelerini de value olacak şekilde sözlük haline getiren bir fonksiyon yazınız. (Sayıların kendileri dahil!)\n",
    "\n",
    "Example:\n",
    "keyvalue(12,5)\n",
    "\n",
    "{5: 25, 7: 49, 9: 81, 11: 121}"
   ]
  },
  {
   "cell_type": "code",
   "execution_count": 120,
   "id": "392998d1",
   "metadata": {},
   "outputs": [
    {
     "name": "stdout",
     "output_type": "stream",
     "text": [
      "{7: 49, 9: 81, 11: 121, 13: 169, 15: 225, 17: 289, 19: 361, 21: 441, 23: 529}\n"
     ]
    }
   ],
   "source": [
    "def keyvalue(x,y):\n",
    "    dict1 = {}\n",
    "    \n",
    "    for i in range(x,y) or range(y,x):\n",
    "        if i % 2:\n",
    "            dict1[i] = i ** 2\n",
    "    \n",
    "    return print(dict1)\n",
    "\n",
    "keyvalue(25,7)"
   ]
  },
  {
   "cell_type": "markdown",
   "id": "903f7ae5",
   "metadata": {},
   "source": [
    "4 - Ardışık sıfırlar ve birler:\n",
    "\n",
    "Bu sorunun amacı, yalnızca sıfırlar ve birlerden oluşan bir ikili diziyi analiz etmektir. Kodunuz, dizedeki en büyük ardışık sıfır ve birlerin sayısını bulmalıdır. Örneğin, dize verildiğinde:\n",
    "\n",
    "\"1001101000110\" Ardışık sıfırların en büyük sayısı 3'tür.\n",
    "\n",
    "\"1001101000110\" Ardışık birlerin en büyük sayısı 2'dir.\n",
    "\n",
    "Sıfırlar ve birler dizisi olan tek bir parametre alan ardışık_sıfırlar adlı bir fonksiyon tanımlayın."
   ]
  },
  {
   "cell_type": "code",
   "execution_count": 119,
   "id": "6338cbdd",
   "metadata": {},
   "outputs": [
    {
     "data": {
      "text/plain": [
       "('en cok ardisik 0 larin sayisi: 3', 'en cok ardisik 1 lerin sayisi: 2')"
      ]
     },
     "execution_count": 119,
     "metadata": {},
     "output_type": "execute_result"
    }
   ],
   "source": [
    "def ardisik_sifirlar(x):\n",
    "    \n",
    "    zeros = 0\n",
    "    max_zeros = 0\n",
    "    ones = 0\n",
    "    max_ones = 0\n",
    "    \n",
    "    for i in x:\n",
    "        if i == '0':\n",
    "            zeros += 1\n",
    "            ones = 0\n",
    "            max_zeros = max(max_zeros, zeros)\n",
    "        elif i == '1':\n",
    "            ones += 1\n",
    "            zeros = 0\n",
    "            max_ones = max(max_ones, ones)\n",
    "    \n",
    "    return f\"en cok ardisik 0 larin sayisi: {max_zeros}\", f\"en cok ardisik 1 lerin sayisi: {max_ones}\"\n",
    "\n",
    "ardisik_sifirlar(\"1001101000110\")"
   ]
  },
  {
   "cell_type": "markdown",
   "id": "26614e94",
   "metadata": {},
   "source": [
    "5- \n",
    "Parametre olarak negatif olmayan bir sayı alan \"format_number\" adında bir fonksiyon yazın.\n",
    "\n",
    "Fonksiyonunuz sayıyı bir stringe dönüştürmeli ve binlik ayırıcı olarak virgül eklemelidir.\n",
    "\n",
    "Örneğin, format_number(1000000) Output: \"1,000,000\" çıktısını vermelidir."
   ]
  },
  {
   "cell_type": "code",
   "execution_count": 118,
   "id": "333c3228",
   "metadata": {},
   "outputs": [
    {
     "data": {
      "text/plain": [
       "'8,674,861,294,468,451,248'"
      ]
     },
     "execution_count": 118,
     "metadata": {},
     "output_type": "execute_result"
    }
   ],
   "source": [
    "def format_number(x):\n",
    "    x = str(x)\n",
    "    if len(x) >= 4:\n",
    "        \n",
    "        if len(x) % 3 == 0:\n",
    "            virgul = (len(x) // 3) - 1    # sonuc - 1 kadar virgul koy\n",
    "            \n",
    "        else:\n",
    "            virgul = len(x) // 3    # sonucu kadar virgul koy\n",
    "        \n",
    "        count = 1\n",
    "        a = -3 \n",
    "        while count <= virgul:\n",
    "        \n",
    "            x = \",\".join([x[0:a] , x[a:]])\n",
    "            a -= 4\n",
    "            count += 1\n",
    "    else:\n",
    "        return x\n",
    "\n",
    "    return x\n",
    "\n",
    "format_number(8674861294468451248)\n"
   ]
  },
  {
   "cell_type": "code",
   "execution_count": 98,
   "id": "b9762610",
   "metadata": {},
   "outputs": [
    {
     "name": "stdout",
     "output_type": "stream",
     "text": [
      "106,456,543,640\n"
     ]
    }
   ],
   "source": [
    "# chatgpt cozumu:\n",
    "\n",
    "def format_number(number):\n",
    "    # Sayıyı stringe dönüştürerek virgül eklemek\n",
    "    return \"{:,}\".format(number)\n",
    "\n",
    "# Örnek kullanım:\n",
    "sayi = 106456543640\n",
    "formatli_sayi = format_number(sayi)\n",
    "print(formatli_sayi)  # Çıktı: \"1,000,000\"\n",
    "\n",
    "# Yeni bir bilgi:\n",
    "# \"{:,}\" is a string formatting syntax using curly braces {} inside a string. \n",
    "# This specific format {:,} represents a placeholder for a number and indicates that the number should be formatted with a comma as a thousands separator.\n"
   ]
  },
  {
   "cell_type": "markdown",
   "id": "52dc60b7",
   "metadata": {},
   "source": [
    "6-\n",
    "Kullanıcıdan alınan bir text dizisinin tüm noktalama işaretlerini temizleyen bir fonksiyon yazınız.\n",
    "Example:\n",
    "cleaning(\"nas,ıls..ın\") >>> \"nasılsın\""
   ]
  },
  {
   "cell_type": "code",
   "execution_count": 1,
   "id": "00a9c818",
   "metadata": {},
   "outputs": [
    {
     "name": "stdout",
     "output_type": "stream",
     "text": [
      "nvofdns48730>?<;'p]*(^%$£\n"
     ]
    },
    {
     "data": {
      "text/plain": [
       "'nvofdns48730p'"
      ]
     },
     "execution_count": 1,
     "metadata": {},
     "output_type": "execute_result"
    }
   ],
   "source": [
    "def isaret_temizle(metin):\n",
    "    isaretler = \"!.:;,?-`_'|/£$%^&*[(])+=<@~{\\}>\"\n",
    "\n",
    "    for i in metin:\n",
    "        if i in isaretler:\n",
    "            metin = metin.replace(i,\"\")\n",
    "    return metin\n",
    "\n",
    "x = input()\n",
    "print(x)\n",
    "isaret_temizle(x)"
   ]
  },
  {
   "cell_type": "markdown",
   "id": "d7d5f9a8",
   "metadata": {},
   "source": [
    "7-\n",
    "Kullanıcıdan bir sayı girmesini isteyin ve girilen sayıya göre papatya falı döndüren algoritma yazın. Son çıktının tüm karakterlerinin upper olmasına dikkat edin.\n",
    "\n",
    "example:\n",
    "input >> 5\n",
    "output >> ['Loves Me', 'Loves Me Not', 'Loves Me', 'Loves Me Not', 'LOVES ME']"
   ]
  },
  {
   "cell_type": "code",
   "execution_count": 14,
   "id": "3dd36d82",
   "metadata": {},
   "outputs": [
    {
     "name": "stdout",
     "output_type": "stream",
     "text": [
      "['Loves Me', 'Loves Me Not', 'Loves Me', 'Loves Me Not', 'Loves Me', 'LOVES ME NOT']\n"
     ]
    }
   ],
   "source": [
    "liste = []\n",
    "x = int(input())\n",
    "count = 1\n",
    "while count <= x:\n",
    "    \n",
    "    if count == x:\n",
    "        liste.append(\"Loves Me\"[:].upper())\n",
    "        break\n",
    "    liste.append(\"Loves Me\")\n",
    "    count += 1\n",
    "    \n",
    "    if count == x:\n",
    "        liste.append(\"Loves Me Not\"[:].upper())\n",
    "        break\n",
    "    liste.append(\"Loves Me Not\")\n",
    "    count += 1\n",
    "\n",
    "print(liste)"
   ]
  },
  {
   "cell_type": "markdown",
   "id": "f75b8f0f",
   "metadata": {},
   "source": [
    "8 - Write a function that sorts the odd numbers in ascending order that leaves the even numbers in their original positions in a given string of numbers.\n",
    "\n",
    "Example:\n",
    "\n",
    "[7, 1] => [1, 7]\n",
    "\n",
    "[5, 8, 6, 3, 4] => [3, 8, 6, 5, 4]\n",
    "\n",
    "[9, 8, 7, 6, 5, 4, 3, 2, 1, 0] => [1, 8, 3, 6, 5, 4, 7, 2, 9, 0]"
   ]
  },
  {
   "cell_type": "code",
   "execution_count": 73,
   "id": "9d37421c",
   "metadata": {},
   "outputs": [
    {
     "name": "stdout",
     "output_type": "stream",
     "text": [
      "5 degerinin indeksi:  0\n",
      "3 degerinin indeksi:  3\n",
      "3\n",
      "0\n",
      "{5: 0, 3: 3}\n",
      "[5, 3]\n",
      "[3, 5]\n",
      "[5, 8, 6, 3, 4]\n"
     ]
    }
   ],
   "source": [
    "# Cozemedim...\n",
    "\n",
    "liste = [5, 8, 6, 3, 4]  #  => [3, 8, 6, 5, 4]\n",
    "tekler = []\n",
    "dicttekler = {}\n",
    "\n",
    "for i in liste:\n",
    "  if i % 2: \n",
    "    a = liste.index(i)\n",
    "    dicttekler[i] = a\n",
    "    print(f\"{i} degerinin indeksi: \", a)\n",
    "    tekler.append(i)\n",
    "\n",
    "tekler = sorted(tekler)\n",
    "\n",
    "for i in tekler:\n",
    "  iindex = dicttekler[i]\n",
    "  print(iindex)\n",
    "  liste.pop(iindex)\n",
    "  liste.insert(iindex, i)\n",
    "\n",
    "print(dicttekler)\n",
    "print(tekler)\n",
    "print(tekler2)\n",
    "print(liste)"
   ]
  },
  {
   "cell_type": "markdown",
   "id": "0de6ca91",
   "metadata": {},
   "source": [
    "9 - bir fonksiyon yazın. İçerisine girilen string ifadenin her seferinde sırayla bir harfini büyük yazdırsın. Sonuç olarak liste döndürsün. Punctuation lar işleme dahil edilmemelidir.\n",
    "\n",
    "Example:\n",
    "input >> ankara\n",
    "\n",
    "output >> ['Ankara', 'aNkara', 'anKara', 'ankAra', 'ankaRa', 'ankarA']"
   ]
  },
  {
   "cell_type": "code",
   "execution_count": 117,
   "id": "9c0eb1c8",
   "metadata": {},
   "outputs": [
    {
     "data": {
      "text/plain": [
       "['Hello£%$&huma',\n",
       " 'hEllo£%$&huma',\n",
       " 'heLlo£%$&huma',\n",
       " 'helLo£%$&huma',\n",
       " 'hellO£%$&huma',\n",
       " 'hello£%$&huma',\n",
       " 'hello£%$&huma',\n",
       " 'hello£%$&huma',\n",
       " 'hello£%$&huma',\n",
       " 'hello£%$&Huma',\n",
       " 'hello£%$&hUma',\n",
       " 'hello£%$&huMa',\n",
       " 'hello£%$&humA']"
      ]
     },
     "execution_count": 117,
     "metadata": {},
     "output_type": "execute_result"
    }
   ],
   "source": [
    "def siraylabuyut(x):\n",
    "    a = x\n",
    "    listem = []\n",
    "    i = 0\n",
    "    while i < len(x):\n",
    "        x = x[:i] + x[i].upper() + x[i+1:]\n",
    "        listem.append(x)\n",
    "        x = a\n",
    "        i += 1\n",
    "    return listem\n",
    "\n",
    "siraylabuyut(\"hello£%$&huma\")"
   ]
  },
  {
   "cell_type": "markdown",
   "id": "3ecf0ab9",
   "metadata": {},
   "source": [
    "10 - Write a function scramble(str1, str2) that returns true if some of the str 1 characters can be rearranged to match str 2, false otherwise\n",
    "#Note >> Only lower case letters will be used (a-z). No punctuation or digits will be included.\n",
    "\n",
    "#Examples\n",
    "#scramble('rkqodlw', 'world') ==> True\n",
    "#scramble('katas', 'steak') ==> False"
   ]
  },
  {
   "cell_type": "code",
   "execution_count": 51,
   "id": "0d3f0772",
   "metadata": {},
   "outputs": [
    {
     "name": "stdout",
     "output_type": "stream",
     "text": [
      "True\n",
      "False\n"
     ]
    }
   ],
   "source": [
    "def scramble(str1,str2):\n",
    "    \n",
    "    for i in str2:\n",
    "        if i not in str1:\n",
    "            return False\n",
    "    else:\n",
    "        return True\n",
    "\n",
    "print(scramble('rkqodlw', 'world'))\n",
    "print(scramble('katas', 'steak'))"
   ]
  },
  {
   "cell_type": "markdown",
   "id": "c0900727",
   "metadata": {},
   "source": [
    "11 - 1 den 100 e kadar olan sayılardaki asal sayıları bulun. \n",
    "\n",
    "Output >>> [2, 3, 5, 7, 11, 13, 17, 19, 23, 29, 31, 37, 41, 43, 47, 53, 59, 61, 67, 71, 73, 79, 83, 89, 97]"
   ]
  },
  {
   "cell_type": "code",
   "execution_count": 52,
   "id": "5b6cc46c",
   "metadata": {},
   "outputs": [
    {
     "name": "stdout",
     "output_type": "stream",
     "text": [
      "[2, 3, 5, 7, 11, 13, 17, 19, 23, 29, 31, 37, 41, 43, 47, 53, 59, 61, 67, 71, 73, 79, 83, 89, 97]\n"
     ]
    }
   ],
   "source": [
    "asal_sayialar = []\n",
    "\n",
    "for i in range(1,100):\n",
    "    if i == 2:\n",
    "        asal_sayialar.append(i)\n",
    "    else:\n",
    "        liste = []\n",
    "        for j in range(1,i + 1): # 1 den kendisine kadar olan sayilari tek tek bol\n",
    "            if i % j == 0: \n",
    "                liste.append(j) # kendisini bolen sayilari listeye ekle\n",
    "        if len(liste) == 2: # listenin eleman sayisi 2 ise (1 ve sayinin kendisi) asal sayilar listesine ekle\n",
    "            asal_sayialar.append(i)\n",
    "\n",
    "print(asal_sayialar)"
   ]
  },
  {
   "cell_type": "markdown",
   "id": "e8a6836f",
   "metadata": {},
   "source": [
    "12 - ```\n",
    "7- Once upon a time, on a way through the old wild mountainous west,…\n",
    "… a man was given directions to go from one point to another. The directions were \"NORTH\", \"SOUTH\", \"WEST\", \"EAST\". Clearly \"NORTH\" and \"SOUTH\" are opposite, \"WEST\" and \"EAST\" too.\n",
    "\n",
    "Going to one direction and coming back the opposite direction right away is a needless effort. Since this is the wild west, with dreadfull weather and not much water, it's important to save yourself some energy, otherwise you might die of thirst!\n",
    "\n",
    "How I crossed a mountainous desert the smart way.\n",
    "The directions given to the man are, for example, the following (depending on the language):\n",
    "\n",
    "[\"NORTH\", \"SOUTH\", \"SOUTH\", \"EAST\", \"WEST\", \"NORTH\", \"WEST\"].\n",
    "or\n",
    "{ \"NORTH\", \"SOUTH\", \"SOUTH\", \"EAST\", \"WEST\", \"NORTH\", \"WEST\" };\n",
    "or\n",
    "[North, South, South, East, West, North, West]\n",
    "You can immediatly see that going \"NORTH\" and immediately \"SOUTH\" is not reasonable, better stay to the same place! So the task is to give to the man a simplified version of the plan. A better plan in this case is simply:\n",
    "\n",
    "[\"WEST\"]\n",
    "or\n",
    "{ \"WEST\" }\n",
    "or\n",
    "[West]\n",
    "Other examples:\n",
    "In [\"NORTH\", \"SOUTH\", \"EAST\", \"WEST\"], the direction \"NORTH\" + \"SOUTH\" is going north and coming back right away.\n",
    "\n",
    "The path becomes [\"EAST\", \"WEST\"], now \"EAST\" and \"WEST\" annihilate each other, therefore, the final result is [] (nil in Clojure).\n",
    "\n",
    "In [\"NORTH\", \"EAST\", \"WEST\", \"SOUTH\", \"WEST\", \"WEST\"], \"NORTH\" and \"SOUTH\" are not directly opposite but they become directly opposite after the reduction of \"EAST\" and \"WEST\" so the whole path is reducible to [\"WEST\", \"WEST\"].\n",
    "\n",
    "Task\n",
    "Write a function dirReduc which will take an array of strings and returns an array of strings with the needless directions removed (W<->E or S<->N side by side).\n",
    "\n",
    "The Haskell version takes a list of directions with data Direction = North | East | West | South.\n",
    "The Clojure version returns nil when the path is reduced to nothing.\n",
    "The Rust version takes a slice of enum Direction {North, East, West, South}.\n",
    "See more examples in \"Sample Tests:\"\n",
    "Notes\n",
    "Not all paths can be made simpler. The path [\"NORTH\", \"WEST\", \"SOUTH\", \"EAST\"] is not reducible. \"NORTH\" and \"WEST\", \"WEST\" and \"SOUTH\", \"SOUTH\" and \"EAST\" are not directly opposite of each other and can't become such. Hence the result path is itself : [\"NORTH\", \"WEST\", \"SOUTH\", \"EAST\"].\n",
    "```\n",
    "\n",
    "\n"
   ]
  },
  {
   "cell_type": "code",
   "execution_count": 35,
   "id": "9545c229",
   "metadata": {},
   "outputs": [
    {
     "data": {
      "text/plain": [
       "\"the new path is: ['EAST', 'WEST', 'SOUTH', 'SOUTH']\""
      ]
     },
     "execution_count": 35,
     "metadata": {},
     "output_type": "execute_result"
    }
   ],
   "source": [
    "# BENIM CABALARIM\n",
    "\n",
    "def dirReduc(* ways):\n",
    "    \n",
    "    waylist = []\n",
    "    for i in ways:\n",
    "        i = i.upper()\n",
    "        waylist.append(i)\n",
    "        \n",
    "    x = 0\n",
    "    while x < len(waylist):\n",
    "        \n",
    "        if (waylist[x] == \"NORTH\" and waylist[x + 1] == \"SOUTH\") or (waylist[x] == \"SOUTH\" and waylist[x + 1] == \"NORTH\"):\n",
    "            waylist.pop(x)\n",
    "            waylist.pop(x)\n",
    "        elif (waylist[x] == \"WEST\" and waylist[x + 1] == \"EAST\") or (waylist[x] == \"EAST\" and waylist[x + 1] == \"WEST\"):\n",
    "            waylist.pop(x)\n",
    "            waylist.pop(x)\n",
    "        else:\n",
    "            x += 1\n",
    "            \n",
    "    return f\"the new path is: {waylist}\"\n",
    "\n",
    "\n",
    "dirReduc(\"east\" ,\"north\", \"south\", \"west\", \"south\", \"south\", \"east\", \"west\")"
   ]
  },
  {
   "cell_type": "code",
   "execution_count": 40,
   "metadata": {},
   "outputs": [
    {
     "name": "stdout",
     "output_type": "stream",
     "text": [
      "[]\n",
      "['NORTH']\n",
      "[]\n",
      "['SOUTH']\n",
      "['SOUTH', 'EAST']\n",
      "['SOUTH']\n",
      "[]\n",
      "['WEST']\n"
     ]
    },
    {
     "data": {
      "text/plain": [
       "\"The final path will be: ['WEST', 'NORTH']\""
      ]
     },
     "execution_count": 40,
     "metadata": {},
     "output_type": "execute_result"
    }
   ],
   "source": [
    "# CHATGPT'DEN YARDIM ALARAK ANLAMAYA CALISTIGIM KODLAR...\n",
    "\n",
    "def dirReduc(direction):\n",
    "    opposites = {\"NORTH\": \"SOUTH\", \"SOUTH\": \"NORTH\", \"EAST\": \"WEST\", \"WEST\": \"EAST\"}\n",
    "    wayslist = []\n",
    "    \n",
    "    for i in direction: # directions listesinin elemanlarini tek tek gezecek\n",
    "        print(wayslist)\n",
    "        if wayslist and (wayslist[-1] == opposites[i]): # eger wayslist varsa VE son eleman directionsdan eklenecek olan elemanin (i) tersi ise (opposites[key] = value)\n",
    "            wayslist.pop() # son elemani(orn: north) directionsdan eklenecek elemani(orn: south) da eklemeden sil\n",
    "        else:\n",
    "            wayslist.append(i) # eklenecek eleman tersi degilse ekle\n",
    "    \n",
    "    return f\"The final path will be: {wayslist}\" # bu islemlerin yapildigi listenin son halini getir\n",
    "\n",
    "directions = [\"NORTH\", \"SOUTH\", \"SOUTH\", \"EAST\", \"WEST\", \"NORTH\", \"WEST\", \"NORTH\"]\n",
    "dirReduc(directions)\n",
    "\n"
   ]
  }
 ],
 "metadata": {
  "kernelspec": {
   "display_name": "Python 3 (ipykernel)",
   "language": "python",
   "name": "python3"
  },
  "language_info": {
   "codemirror_mode": {
    "name": "ipython",
    "version": 3
   },
   "file_extension": ".py",
   "mimetype": "text/x-python",
   "name": "python",
   "nbconvert_exporter": "python",
   "pygments_lexer": "ipython3",
   "version": "3.11.5"
  }
 },
 "nbformat": 4,
 "nbformat_minor": 5
}
