{
 "cells": [
  {
   "cell_type": "markdown",
   "metadata": {},
   "source": [
    "1 - Kullanıcıdan 1-100 arası bir sayı girmesini isteyin. 1 ile girilen sayı arasındaki çift sayıların toplamımı yazdıran kodu yazın. örn: girilen sayı 15. 1-15 arsı çift sayıların toplamı: 56 "
   ]
  },
  {
   "cell_type": "code",
   "execution_count": 28,
   "metadata": {},
   "outputs": [
    {
     "name": "stdout",
     "output_type": "stream",
     "text": [
      "1 ile 10 arasindaki cift sayilarin toplami: 20\n"
     ]
    }
   ],
   "source": [
    "x = int(input(\"bir sayi giriniz: \"))\n",
    "y = 1\n",
    "cift_toplam = 0\n",
    "\n",
    "while y < x:\n",
    "    if y % 2 == 0:\n",
    "        cift_toplam = cift_toplam + y\n",
    "    y += 1\n",
    "\n",
    "print(f\"1 ile {x} arasindaki cift sayilarin toplami: {cift_toplam}\")"
   ]
  },
  {
   "cell_type": "markdown",
   "metadata": {},
   "source": [
    "2 - Kullanıcıdan bir sayı alın ve sayıyı tersten yazdırın. örn: 1524 >> 4251"
   ]
  },
  {
   "cell_type": "code",
   "execution_count": 195,
   "metadata": {},
   "outputs": [
    {
     "name": "stdout",
     "output_type": "stream",
     "text": [
      "Girdiginiz sayinin tersi: 17698524\n"
     ]
    }
   ],
   "source": [
    "# cozum 1: (Slicing kullanmak sonradan aklima geldi..)\n",
    "\n",
    "sayi = list(input(\"Bir sayi giriniz:\"))\n",
    "sayi.reverse()\n",
    "str_sayi = \"\"\n",
    "x = 0\n",
    "while x < len(sayi):\n",
    "    str_sayi = str_sayi + sayi[x]\n",
    "    x += 1\n",
    "print(f\"Girdiginiz sayinin tersi: {str_sayi}\")"
   ]
  },
  {
   "cell_type": "code",
   "execution_count": 194,
   "metadata": {},
   "outputs": [
    {
     "name": "stdout",
     "output_type": "stream",
     "text": [
      "Girdiginiz 452687 sayisinin tersi: 786254\n"
     ]
    }
   ],
   "source": [
    "# cozum 2:\n",
    "sayi = input(\"Bir sayi giriniz:\")\n",
    "ters_sayi = sayi[::-1]\n",
    "print(f\"Girdiginiz {sayi} sayisinin tersi: {ters_sayi}\")"
   ]
  },
  {
   "cell_type": "markdown",
   "metadata": {},
   "source": [
    "3 - Kullanıcıdan oluşturacağınız bir listenin eleman sayısını girmesini isteyin. Daha sonra listeye bu sayı kadar eleman eklemesini sağlayan kodu yazın. (örn: liste eleman sayısı 4. Kullanıcının belirlediği 4 elemanlı bir liste döndürülmelidir.) "
   ]
  },
  {
   "cell_type": "code",
   "execution_count": 196,
   "metadata": {},
   "outputs": [
    {
     "name": "stdout",
     "output_type": "stream",
     "text": [
      "Olusturdugunuz 4 elemanli liste: ['88', '5', '91', '2']\n"
     ]
    }
   ],
   "source": [
    "len_liste = int(input(\"Olusturacaginiz listenin eleman sayisini giriniz:\"))\n",
    "benim_liste = []\n",
    "x = 0\n",
    "while x < len_liste:\n",
    "    benim_liste.append(input(f\"Olusturdugunuz listenin {x + 1}. elemanini giriniz:\"))\n",
    "    x += 1\n",
    "print(f\"Olusturdugunuz {len_liste} elemanli liste: {benim_liste}\")"
   ]
  },
  {
   "cell_type": "markdown",
   "metadata": {},
   "source": [
    "4 - Kullanıcının girdiği sayının asal sayı olup olmadığını bulan kodu yazın."
   ]
  },
  {
   "cell_type": "code",
   "execution_count": 2,
   "metadata": {},
   "outputs": [
    {
     "name": "stdout",
     "output_type": "stream",
     "text": [
      "Girdiginiz pozitif 72842768 sayisi asal sayi degildir. [1, 2, 4, 8, 16, 4552673, 9105346, 18210692, 36421384, 72842768] sayilarina bolunuyor.\n"
     ]
    }
   ],
   "source": [
    "# Sayi sadece 1'e ve kendisine bolunuyorsa asaldir.\n",
    "a = int(input(\"Bir sayi giriniz:\"))\n",
    "x = 1\n",
    "bos_liste = []\n",
    "\n",
    "if a < 2: # Girilen sayi 2 den kucuk ise asal degildir.\n",
    "    print(f\"Girdiginiz {a} sayisi 2 den kucuk oldugu icin asal sayi degildir.\")\n",
    "else:\n",
    "    while x <= a: \n",
    "        if a % x == 0: # Sayinin, 1 den kendisine kadarki sayilardan kac tanesine tam bolunecegi tespit edilecek.\n",
    "            bos_liste.append(x) # Tam bolunen sayilari bos bir listeye atacak.\n",
    "        x += 1\n",
    "    if len(bos_liste) == 2: # Listenin eleman sayisina bakilacak. Eger sayi sadece 2 sayiya (1'e ve kendisine) bolunuyorsa asaldir.\n",
    "        print(f\"Girdiginiz {a} sayisi bir asal sayidir. Sadece {bos_liste} sayilarina bolunuyor.\")\n",
    "    else:\n",
    "        print(f\"Girdiginiz pozitif {a} sayisi asal sayi degildir. {bos_liste} sayilarina bolunuyor.\")\n"
   ]
  },
  {
   "cell_type": "markdown",
   "metadata": {},
   "source": [
    "5 - Anne, baba ve çocuktan oluşan çekirdek ailenin Süper aile olup olmadığını bulan kodu yazın. isimleri kullanıcıdan isteyin. (Çocuğun ismindeki sessiz harflerin hepsi, anne ve babanın isimlerinde var ise bu aile süper ailedir.(Not: anne ve baba isminden en az bir tane olmalı.). örn1: baba adı = \"Halil\", anne adı= \"Merve\", çocuk adı= \"Veli\" >> Süper aile. (\"v\" anneden, \"l\" babadan)\n",
    "örn2: baba adı = \"Murat\", anne adı= \"Songül\", çocuk adı= \"Mert\" >> Süper aile değil. Anneden harf yok."
   ]
  },
  {
   "cell_type": "code",
   "execution_count": 16,
   "metadata": {},
   "outputs": [
    {
     "name": "stdout",
     "output_type": "stream",
     "text": [
      "Anne: Meryem, Baba: Necip, Cocuk: Necmiye.\n",
      "Necmiye ismindeki cocugun adindaki sessiz harfler: {'y', 'm', 'c', 'n'}\n",
      "Meryem ismindeki annesi ile ortak sessiz harfleri: {'y', 'm'}\n",
      "Necip ismindeki babasi ile ortak sessiz harfleri: {'c', 'n'}\n",
      "Meryem, Necip, Necmiye ailesi bir Super Aile!\n"
     ]
    }
   ],
   "source": [
    "vowels = {\"a\",\"e\",\"i\",\"o\",\"u\"}\n",
    "\n",
    "mom = (input(\"Annenin ismini giriniz:\")).lower()\n",
    "print(f\"Anne: {mom.capitalize()}, \", end = \"\")\n",
    "dad = (input(\"Babanin ismini giriniz:\")).lower()\n",
    "print(f\"Baba: {dad.capitalize()}, \", end = \"\")\n",
    "child = (input(\"Cocugun ismini giriniz:\")).lower()\n",
    "print(f\"Cocuk: {child.capitalize()}.\")\n",
    "\n",
    "x = 0\n",
    "child_set = set()\n",
    "# cocugun ismindeki sessiz harfler bulunup yukarda tanimlanan bos kumeye atilacak\n",
    "while x < len(child): \n",
    "    if child[x] not in vowels:\n",
    "        child_set.add(child[x])\n",
    "    x += 1\n",
    "print(f\"{child.capitalize()} ismindeki cocugun adindaki sessiz harfler: {child_set}\")\n",
    "print(f\"{mom.capitalize()} ismindeki annesi ile ortak sessiz harfleri: {child_set & set(mom)}\")\n",
    "print(f\"{dad.capitalize()} ismindeki babasi ile ortak sessiz harfleri: {child_set & set(dad)}\")\n",
    "\n",
    "# Her iki kesisim kumesi de bos olmayacak(True) ve bu kesisim kumelerinin birlesimi child_set kumesini verecek\n",
    "if (child_set & set(mom)) and (child_set & set(dad)) and (child_set & (set(mom) | set(dad)) == child_set):\n",
    "    print(f\"{mom.capitalize()}, {dad.capitalize()}, {child.capitalize()} ailesi bir Super Aile!\")\n",
    "else:\n",
    "    print(f\"{mom.capitalize()}, {dad.capitalize()}, {child.capitalize()} ailesi Super Aile degil\")\n"
   ]
  },
  {
   "cell_type": "code",
   "execution_count": null,
   "metadata": {},
   "outputs": [],
   "source": [
    "# Hocanin cozumu\n",
    "\n",
    "baba = input(\"baba ismi\")\n",
    "anne = input(\"anne ismi\")\n",
    "cocuk = input(\"cocuk ismi\")\n",
    "\n",
    "sessiz_cocuk = \"\"\n",
    "\n",
    "for i in cocuk.lower():\n",
    "    if i not in \"aeıiüuoö\":\n",
    "        sessiz_cocuk += i\n",
    "\n",
    "if len(set(sessiz_cocuk) & set(baba)) > 0 and len(set(sessiz_cocuk) & set(anne)) > 0 and set(sessiz_cocuk).issubset(set(baba) | set(anne)):\n",
    "    print(\"bu aile süper ailedir\")\n",
    "else:\n",
    "    print(\"bu aile süper aile değildir.\")"
   ]
  },
  {
   "cell_type": "code",
   "execution_count": null,
   "metadata": {},
   "outputs": [],
   "source": [
    "\n",
    "baba = input(\"baba ismi\")\n",
    "anne = input(\"anne ismi\")\n",
    "cocuk = input(\"cocuk ismi\")\n",
    "\n",
    "sessiz_cocuk = \"\"\n",
    "\n",
    "sessiz_cocuk = set(cocuk) - \"aeiou\" # Fatma Hocamizin for kismi cozumu\n",
    "\n",
    "if len(set(sessiz_cocuk) & set(baba)) > 0 and len(set(sessiz_cocuk) & set(anne)) > 0 and set(sessiz_cocuk).issubset(set(baba) | set(anne)):\n",
    "    print(\"bu aile süper ailedir\")\n",
    "else:\n",
    "    print(\"bu aile süper aile değildir.\")\n",
    "    "
   ]
  }
 ],
 "metadata": {
  "kernelspec": {
   "display_name": "base",
   "language": "python",
   "name": "python3"
  },
  "language_info": {
   "codemirror_mode": {
    "name": "ipython",
    "version": 3
   },
   "file_extension": ".py",
   "mimetype": "text/x-python",
   "name": "python",
   "nbconvert_exporter": "python",
   "pygments_lexer": "ipython3",
   "version": "3.11.1"
  }
 },
 "nbformat": 4,
 "nbformat_minor": 2
}
