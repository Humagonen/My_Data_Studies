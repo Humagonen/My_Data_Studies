{
 "cells": [
  {
   "cell_type": "markdown",
   "metadata": {},
   "source": [
    "1 - Kullanıcıdan input ile iki veri alın. Bu veriler tamsayı ise çarpımını yazdırın. "
   ]
  },
  {
   "cell_type": "code",
   "execution_count": 2,
   "metadata": {},
   "outputs": [
    {
     "name": "stdout",
     "output_type": "stream",
     "text": [
      "Girmis oldugunuz, 9.2 ve 5 verileri tam sayi degildir.\n"
     ]
    }
   ],
   "source": [
    "x = input(\"1. sayiyi giriniz:\")\n",
    "y = input(\"2. sayiyi giriniz:\")\n",
    "\n",
    "if x.isdecimal() and y.isdecimal():\n",
    "    x = int(x)\n",
    "    y = int(y)\n",
    "    print(\"Girdiginiz ilk sayi:\", x ,\"\\nIkinci sayi:\", y)\n",
    "    print(\"Girdiginiz tam sayilarin carpimi: \", x * y)\n",
    "else:\n",
    "    print(\"Girmis oldugunuz,\", x ,\"ve\", y ,\"verileri tam sayi degildir.\")"
   ]
  },
  {
   "cell_type": "markdown",
   "metadata": {},
   "source": [
    "2 - Kullanıcıdan bir sayı isteyin. Sayı tek ise 2 katını çift ise karesini yazdırın. "
   ]
  },
  {
   "cell_type": "code",
   "execution_count": 36,
   "metadata": {},
   "outputs": [
    {
     "name": "stdout",
     "output_type": "stream",
     "text": [
      "Girdiginiz sayi: 4.29\n",
      "Girdiginiz sayi tek sayidir.\n",
      "Sayinin 2 kati: 8.58\n"
     ]
    }
   ],
   "source": [
    "sayi = float(input(\"Bir sayi giriniz:\"))\n",
    "\n",
    "print(\"Girdiginiz sayi:\", sayi)\n",
    "\n",
    "if sayi % 2 == 0.0: # cift sayi ise\n",
    "    print(\"Girdiginiz sayi cift sayidir.\")\n",
    "    print(\"Sayinin karesi:\", sayi ** 2)\n",
    "else: # tek sayi ise\n",
    "    print(\"Girdiginiz sayi tek sayidir.\")\n",
    "    print(\"Sayinin 2 kati:\", sayi * 2)"
   ]
  },
  {
   "cell_type": "markdown",
   "metadata": {},
   "source": [
    "3 - Kullanıcıdan iki tam sayı isteyin. Sayılar eşitse veya sayıların farkı 5 in katı ise True döndüren algoritmayı yazın. "
   ]
  },
  {
   "cell_type": "code",
   "execution_count": 1,
   "metadata": {},
   "outputs": [
    {
     "name": "stdout",
     "output_type": "stream",
     "text": [
      "Girdiginiz ilk sayi: 10\n",
      "Ikinci sayi: 20\n",
      "True\n"
     ]
    }
   ],
   "source": [
    "# tamsayi = integer\n",
    "z , t = int(input(\"Iki tamsayi giriniz:\")), int(input(\"\"))\n",
    "\n",
    "print(\"Girdiginiz ilk sayi:\", z)\n",
    "print(\"Ikinci sayi:\", t)\n",
    "\n",
    "if (z == t) or ((z - t) % 5 == 0):\n",
    "    print(bool(1))\n",
    "else:\n",
    "    print(bool(0))"
   ]
  },
  {
   "cell_type": "markdown",
   "metadata": {},
   "source": [
    "4 - Kullanıcıya sınavdan aldığı notu sorunuz. Denk gelen Harf notunu yazdırın. 0-100 aralığı        dışında girilen notların geçersiz olduğuu belirtmeyi unutmayın. \n",
    "    80 - 100 aralığı \"A\",\n",
    "    65 - 79 aralığı \"B\",\n",
    "    55 - 64 aralığı \"C\",\n",
    "    35 - 54 aralığı \"D\",\n",
    "    0 - 34 aralığı \"F\""
   ]
  },
  {
   "cell_type": "code",
   "execution_count": 58,
   "metadata": {},
   "outputs": [
    {
     "name": "stdout",
     "output_type": "stream",
     "text": [
      "Notunuz: 65.7\n",
      "Harf notunuz: \n",
      "B\n"
     ]
    }
   ],
   "source": [
    "# 80 - 100 : A\n",
    "# 65 - 79 : B\n",
    "# 55 - 64 : C\n",
    "# 35 - 54 : D\n",
    "# 0 - 34 : F\n",
    "\n",
    "sinav_not = float(input(\"(0 - 100) Araligindaki notunuzu giriniz: \"))\n",
    "\n",
    "print(\"Notunuz:\", sinav_not)\n",
    "print(\"Harf notunuz: \")\n",
    "\n",
    "if 80 <= sinav_not <= 100:\n",
    "    print(\"A\")\n",
    "elif 65 <= sinav_not < 80:\n",
    "    print(\"B\")\n",
    "elif 55 <= sinav_not < 65:\n",
    "    print(\"C\")\n",
    "elif 35 <= sinav_not < 55:\n",
    "    print(\"D\")\n",
    "elif 0 <= sinav_not < 35:\n",
    "    print(\"F\")\n",
    "else:\n",
    "    print(\"Girdiginiz not 0 - 100 araliginda degildir\")"
   ]
  },
  {
   "cell_type": "markdown",
   "metadata": {},
   "source": [
    "5 - Vücut kitle endeksini hesaplayan kodu yazınız. Hesapladığınız değerin hangi kategoride olduğunu belirtin. Örn: vki = 24, normal. Kategori aralıklarını araştırma sonucu kendiniz elde edin. "
   ]
  },
  {
   "cell_type": "code",
   "execution_count": 65,
   "metadata": {},
   "outputs": [
    {
     "name": "stdout",
     "output_type": "stream",
     "text": [
      "Kilonuz: 48.0 , Boyunuz: 1.61 , Vucut kitle indeksiniz: 18.517804097064154\n",
      "VKI kategorisi:\n",
      "Normal ağirlikta\n"
     ]
    }
   ],
   "source": [
    "# vki = kg / (m ** 2)\n",
    "# 18,5 kg/m2 ve daha düşük değerler = Zayıf\n",
    "# 18,5 ve 24,9 kg/m2 arasındaki değerler = Normal ağırlıkta\n",
    "# 25,0 ve 29,9 kg/m2 arasındaki değerler = Kilolu\n",
    "# 30,0 ve 34,9 kg/m2 arasındaki değerler = 1. derece obezite\n",
    "# 35.0 ve 39,9 kg/m2 arasındaki degerler = 2. derece obezite\n",
    "# 40 kg/m2 ve üzeri degerler = 3. derece obezite\n",
    "\n",
    "kilo = float(input(\"Kilonuzu kg cinsinden giriniz:\"))\n",
    "boy = float(input(\"boyunuzu metre cinsinden giriniz:\"))\n",
    "\n",
    "vki = kilo / (boy) ** 2\n",
    "print(\"Kilonuz:\", kilo ,\", Boyunuz:\", boy , \", Vucut kitle indeksiniz:\", vki)\n",
    "print(\"VKI kategorisi:\")\n",
    "\n",
    "if 0 < vki <= 18.5:\n",
    "    print(\"Zayif\")\n",
    "elif 18.5 < vki < 25:\n",
    "    print(\"Normal ağirlikta\")\n",
    "elif 25 <= vki < 30:\n",
    "    print(\"Kilolu\")\n",
    "elif 30 <= vki < 35:\n",
    "    print(\"1. derece obezite\")\n",
    "elif 35 <= vki < 40:\n",
    "    print(\"2. derece obezite\")\n",
    "elif 40 <= vki:\n",
    "    print(\"3. derece obezite\")\n",
    "else:\n",
    "    print(\"Gecerli degerler giriniz\")"
   ]
  }
 ],
 "metadata": {
  "kernelspec": {
   "display_name": "Python 3",
   "language": "python",
   "name": "python3"
  },
  "language_info": {
   "codemirror_mode": {
    "name": "ipython",
    "version": 3
   },
   "file_extension": ".py",
   "mimetype": "text/x-python",
   "name": "python",
   "nbconvert_exporter": "python",
   "pygments_lexer": "ipython3",
   "version": "3.11.1"
  },
  "orig_nbformat": 4
 },
 "nbformat": 4,
 "nbformat_minor": 2
}
